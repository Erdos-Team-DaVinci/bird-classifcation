{
 "cells": [
  {
   "cell_type": "code",
   "execution_count": 1,
   "id": "a9bfe9c4",
   "metadata": {},
   "outputs": [],
   "source": [
    "import json\n",
    "import glob\n",
    "import os\n",
    "import streamlit as st\n",
    "import tensorflow as tf\n",
    "import numpy as np\n",
    "import pandas as pd\n",
    "from PIL import Image\n",
    "import cv2\n"
   ]
  },
  {
   "cell_type": "code",
   "execution_count": 4,
   "id": "27e39e62",
   "metadata": {},
   "outputs": [],
   "source": [
    "#@st.cache()\n",
    "def load_list_of_images_available(\n",
    "        all_image_files: dict,\n",
    "        image_files_dtype: str,\n",
    "        bird_species: str\n",
    "        ) -> list:\n",
    "    \"\"\"Retrieves list of available images given the current selections\"\"\"\n",
    "    species_dict = all_image_files.get(image_files_dtype)\n",
    "    list_of_files = species_dict.get(bird_species)\n",
    "    return list_of_files\n",
    "\n",
    "#@st.cache()\n",
    "def load_image_file_structure(path: str = './demo_image_list.json') -> dict:\n",
    "    \"\"\"Retrieves JSON document outining the image directory structure\"\"\"\n",
    "    with open(os.path.join(path), 'r') as f:\n",
    "        return json.load(f)"
   ]
  },
  {
   "cell_type": "code",
   "execution_count": 6,
   "id": "a1248c9e",
   "metadata": {},
   "outputs": [],
   "source": [
    "#index_to_class_label_dict = load_index_to_label_dict()\n",
    "all_image_files = load_image_file_structure()\n",
    "all_image_paths = glob.glob(\"demo_img/*/*/*\")\n",
    "types_of_birds = sorted(list(all_image_files['clean_demo_22'].keys()))\n",
    "types_of_birds = [bird.title() for bird in types_of_birds]\n",
    "labelsDF = pd.read_csv(os.path.join('labelsDF.csv'))\n",
    "\n",
    "model_path='../convNetvgg16_AugFT100NY.h5'\n",
    "\n",
    "\n",
    "#st.title('North American Bird Classification')\n",
    "#instructions = \"\"\"\n",
    "#    Upload an image of a north american bird species or select from the \n",
    "#    sidebar to get pick an image taken by an amateur photographer. \n",
    "#    The image you select will be fed\n",
    "#    through the network of your choice in real-time\n",
    "#    and the output will be displayed to the screen.\n",
    "\n",
    "#    Note that none of the images availible for selection have been seen \n",
    "#    by the model before.\n",
    "#    \"\"\"\n",
    "#st.write(instructions)\n",
    "\n",
    "#upload = st.file_uploader('Upload a north american bird image')\n",
    "\n",
    "\n",
    "dtype_file_structure_mapping = {\n",
    "        'Cleaned Images': 'clean_demo_22',\n",
    "        'Minimally Preprocessed Images': 'rough_demo_22',\n",
    "        'Raw Images': 'raw_demo_22'\n",
    "         }\n",
    "data_split_names = list(dtype_file_structure_mapping.keys())\n"
   ]
  },
  {
   "cell_type": "code",
   "execution_count": 73,
   "id": "8c9b639b",
   "metadata": {
    "scrolled": true
   },
   "outputs": [
    {
     "name": "stdout",
     "output_type": "stream",
     "text": [
      "Killdear\n",
      "1/1 [==============================] - 0s 163ms/step\n",
      "[[0. 0. 0. 0. 0. 0. 0. 0. 0. 0. 0. 0. 0. 0. 0. 0. 0. 0. 0. 0. 0. 0. 0. 0.\n",
      "  0. 0. 0. 0. 0. 0. 0. 0. 0. 0. 0. 0. 0. 0. 0. 0. 0. 0. 0. 0. 0. 0. 0. 0.\n",
      "  0. 0. 0. 0. 0. 0. 0. 1. 0. 0. 0. 0. 0. 0. 0. 0. 0. 0. 0. 0. 0. 0. 0. 0.\n",
      "  0. 0. 0. 0. 0. 0. 0. 0. 0. 0. 0. 0. 0. 0. 0. 0. 0. 0. 0. 0. 0. 0. 0. 0.\n",
      "  0. 0. 0. 0.]]\n",
      "1/1 [==============================] - 0s 11ms/step\n",
      "['loss', 'accuracy']\n",
      "[[0. 0. 0. 0. 0. 0. 0. 0. 0. 0. 0. 0. 0. 0. 0. 0. 0. 0. 0. 0. 0. 0. 0. 0.\n",
      "  0. 0. 0. 0. 0. 0. 0. 0. 0. 0. 0. 0. 0. 0. 0. 0. 0. 0. 0. 0. 0. 0. 0. 0.\n",
      "  0. 0. 0. 0. 0. 0. 0. 1. 0. 0. 0. 0. 0. 0. 0. 0. 0. 0. 0. 0. 0. 0. 0. 0.\n",
      "  0. 0. 0. 0. 0. 0. 0. 0. 0. 0. 0. 0. 0. 0. 0. 0. 0. 0. 0. 0. 0. 0. 0. 0.\n",
      "  0. 0. 0. 0.]]\n",
      "Here are the five most likely bird species\n",
      "Predicted Bird 1: KILLDEAR 100.000%\n",
      "Predicted Bird 2: YELLOW HEADED BLACKBIRD 0.000%\n",
      "Predicted Bird 3: EASTERN BLUEBIRD 0.000%\n",
      "Predicted Bird 4: CEDAR WAXWING 0.000%\n",
      "Predicted Bird 5: CERULEAN WARBLER 0.000%\n"
     ]
    },
    {
     "name": "stderr",
     "output_type": "stream",
     "text": [
      "2022-06-04 13:50:34.422770: I tensorflow/core/grappler/optimizers/custom_graph_optimizer_registry.cc:113] Plugin optimizer for device_type GPU is enabled.\n"
     ]
    }
   ],
   "source": [
    "#if upload:\n",
    "#    file_bytes = np.asarray(bytearray(upload.read()), dtype=np.uint8)\n",
    "#    opencv_image = cv2.imdecode(file_bytes, 1)\n",
    "#    opencv_image = cv2.cvtColor(opencv_image,cv2.COLOR_BGR2RGB) # Color from BGR to RGB\n",
    "#    img = Image.open(upload)\n",
    "#    st.image(img,caption='Uploaded Image',width=300)\n",
    "  \n",
    "  #if(st.button('Predict')):\n",
    "#    model = tf.keras.models.load_model(model_path)\n",
    "#    x = cv2.resize(opencv_image,(224,224))\n",
    "#    x = np.expand_dims(x,axis=0)  \n",
    "#    y = model.predict(x)\n",
    "#    ans=np.argmax(y,axis=1)\n",
    "\n",
    "#    st.title(\"Here are the five most likely bird species\")\n",
    "#    st.write('Predicted Bird 1:', str(labelsDF.loc[labelsDF['label_index'] == y.argmax(), 'labels'].values[0]))\n",
    "#    st.write('Predicted Bird 2:', str(labelsDF.loc[labelsDF['label_index'] == np.argsort(np.max(y, axis=0))[-2], 'labels'].values[0]))\n",
    "#    st.write('Predicted Bird 3:', str(labelsDF.loc[labelsDF['label_index'] == np.argsort(np.max(y, axis=0))[-3], 'labels'].values[0]))\n",
    "#    st.write('Predicted Bird 3:', str(labelsDF.loc[labelsDF['label_index'] == np.argsort(np.max(y, axis=0))[-4], 'labels'].values[0]))\n",
    "#    st.write('Predicted Bird 3:', str(labelsDF.loc[labelsDF['label_index'] == np.argsort(np.max(y, axis=0))[-5], 'labels'].values[0]))\n",
    "    \n",
    "    #df = pd.DataFrame(data=np.zeros((5, 2)),\n",
    "    #                  columns=['Species', 'Confidence Level'],\n",
    "    #                  index=np.linspace(1, 5, 5, dtype=int))\n",
    "    #st.write(df.to_html(escape=False), unsafe_allow_html=True)\n",
    "\n",
    "#else:\n",
    "\n",
    "\n",
    "#dataset_type = st.sidebar.selectbox(\n",
    "#    \"Preprocessing Type\", data_split_names)\n",
    "\n",
    "dataset_type = 'Cleaned Images'\n",
    "\n",
    "image_files_subset = dtype_file_structure_mapping[dataset_type]\n",
    "\n",
    "#selected_species = st.sidebar.selectbox(\"Bird Type\", types_of_birds)\n",
    "selected_species = 'Killdear'\n",
    "available_images = load_list_of_images_available(\n",
    "    all_image_files, image_files_subset, selected_species.upper())\n",
    "image_name = st.sidebar.selectbox(\"Image Name\", available_images)\n",
    "\n",
    "\n",
    "demo_img_path = os.path.join('./demo_img/',image_files_subset, selected_species.upper(), image_name)\n",
    "\n",
    "image_from_existing_demo = Image.open(demo_img_path)\n",
    "print(selected_species)\n",
    "st.image(image_from_existing_demo,caption='Selected Image',width=300)\n",
    "\n",
    "#if(st.button('Predict')):\n",
    "model = tf.keras.models.load_model(os.path.join(model_path))\n",
    "x = cv2.resize(np.float32(image_from_existing_demo),(224,224))\n",
    "x = np.expand_dims(x,axis=0)  \n",
    "y = model.predict(x)\n",
    "print(y)\n",
    "y2 = model.predict(x, )\n",
    "print(model.metrics_names)\n",
    "print(y2)\n",
    "#model.predict_generator(validation_generator, validation_generator.n//batchSize)\n",
    "#prediction = predict(img, index_to_class_label_dict, model, 5)\n",
    "\n",
    "ans=np.argmax(y,axis=1)\n",
    "\n",
    "print(\"Here are the five most likely bird species\")\n",
    "print('Predicted Bird 1:', \n",
    "      str(labelsDF.loc[labelsDF['label_index'] == y.argmax(), 'labels'].values[0]),\n",
    "      \"{:.3%}\".format((y.max())))\n",
    "print('Predicted Bird 2:', \n",
    "      str(labelsDF.loc[labelsDF['label_index'] == np.argsort(np.max(y, axis=0))[-2], 'labels'].values[0]),\n",
    "      \"{:.3%}\".format(np.sort(np.max(y, axis=0))[-2]))\n",
    "print('Predicted Bird 3:', \n",
    "      str(labelsDF.loc[labelsDF['label_index'] == np.argsort(np.max(y, axis=0))[-3], 'labels'].values[0]),\n",
    "      \"{:.3%}\".format(np.sort(np.max(y, axis=0))[-3]))\n",
    "print('Predicted Bird 4:', \n",
    "      str(labelsDF.loc[labelsDF['label_index'] == np.argsort(np.max(y, axis=0))[-4], 'labels'].values[0]),\n",
    "      \"{:.3%}\".format(np.sort(np.max(y, axis=0))[-4]))\n",
    "print('Predicted Bird 5:', \n",
    "      str(labelsDF.loc[labelsDF['label_index'] == np.argsort(np.max(y, axis=0))[-5], 'labels'].values[0]),\n",
    "      \"{:.3%}\".format(np.sort(np.max(y, axis=0))[-5]))\n",
    "\n",
    "\n",
    "\n",
    "#st.write('Predicted Bird 4:', str(labelsDF.loc[labelsDF['label_index'] == np.argsort(np.max(y, axis=0))[-4], 'labels'].values[0]))\n",
    "#st.write('Predicted Bird 5:', str(labelsDF.loc[labelsDF['label_index'] == np.argsort(np.max(y, axis=0))[-5], 'labels'].values[0]))\n",
    "\n",
    "    \n",
    "    #df = pd.DataFrame(data=np.zeros((5, 2)),\n",
    "    #              columns=['Species', 'Confidence Level'],\n",
    "    #              index=np.linspace(1, 5, 5, dtype=int))\n",
    "    #st.write(df.to_html(escape=False), unsafe_allow_html=True)"
   ]
  },
  {
   "cell_type": "code",
   "execution_count": 69,
   "id": "baea7ca4",
   "metadata": {},
   "outputs": [
    {
     "data": {
      "text/plain": [
       "1.2115044e-22"
      ]
     },
     "execution_count": 69,
     "metadata": {},
     "output_type": "execute_result"
    }
   ],
   "source": [
    "np.sort(np.max(y, axis=0))[-2]"
   ]
  }
 ],
 "metadata": {
  "kernelspec": {
   "display_name": "Python 3 (ipykernel)",
   "language": "python",
   "name": "python3"
  },
  "language_info": {
   "codemirror_mode": {
    "name": "ipython",
    "version": 3
   },
   "file_extension": ".py",
   "mimetype": "text/x-python",
   "name": "python",
   "nbconvert_exporter": "python",
   "pygments_lexer": "ipython3",
   "version": "3.10.4"
  }
 },
 "nbformat": 4,
 "nbformat_minor": 5
}
