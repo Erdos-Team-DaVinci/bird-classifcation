{
 "cells": [
  {
   "cell_type": "code",
   "execution_count": 1,
   "id": "c56d027e",
   "metadata": {},
   "outputs": [
    {
     "name": "stdout",
     "output_type": "stream",
     "text": [
      "{'clean_demo_22': [{'AMERICAN REDSTART': ['201.jpg']}, {'SNOWY OWL': ['201.jpg', '202.jpg']}, {'PURPLE FINCH': ['201.jpg']}, {'AMERICAN COOT': ['201.jpg']}, {'BLACKBURNIAM WARBLER': ['201.jpg']}, {'BROWN THRASHER': ['201.jpg']}, {'RUBY THROATED HUMMINGBIRD': ['201.jpg']}, {'BLACK VULTURE': ['201.jpg']}, '.DS_Store', {'BALTIMORE ORIOLE': ['201.jpg', '203.jpg', '202.jpg']}, {'BALD EAGLE': ['201.jpg', '203.jpg', '202.jpg']}, {'GLOSSY IBIS': ['201.jpg']}, {'RED WINGED BLACKBIRD': ['201.jpg', '202.jpg']}, {'RED TAILED HAWK': ['201.jpg']}, {'NORTHERN PARULA': ['201.jpg']}, {'BROWN CREPPER': ['201.jpg', '202.jpg']}, {'AMERICAN GOLDFINCH': ['201.jpg']}, {'KILLDEAR': ['201.jpg']}, {'AMERICAN PIPIT': ['201.jpg']}, {'CHIPPING SPARROW': ['201.jpg']}, {'CEDAR WAXWING': ['201.jpg']}, {'COMMON GRACKLE': ['201.jpg']}, {'RING-NECKED PHEASANT': ['201.jpg']}]}\n",
      "{'raw_demo_22': [{'AMERICAN REDSTART': ['.DS_Store', 'P1190760.jpg']}, {'SNOWY OWL': ['P1280794.jpg', '.DS_Store', 'P1280522.jpg']}, {'PURPLE FINCH': ['P1270128.jpg', '.DS_Store']}, {'AMERICAN COOT': ['.DS_Store', 'P1320517.jpg']}, {'BLACKBURNIAM WARBLER': ['P1340363.jpg', '.DS_Store']}, {'BROWN THRASHER': ['.DS_Store', 'P1290269.jpg']}, {'RUBY THROATED HUMMINGBIRD': ['.DS_Store', 'P1160052.jpg']}, {'BLACK VULTURE': ['.DS_Store', 'P1320560.jpg']}, '.DS_Store', {'BALTIMORE ORIOLE': ['P1150491.jpg', '.DS_Store', 'P1150544.jpg', 'P1150515.jpg']}, {'BALD EAGLE': ['.DS_Store', 'P1040776.jpg', 'P1260391.jpg', 'P1070371.jpg']}, {'GLOSSY IBIS': ['.DS_Store', 'P1170676.jpg']}, {'RED WINGED BLACKBIRD': ['P1140721.jpg', '.DS_Store', 'P1160024.jpg']}, {'RED TAILED HAWK': ['.DS_Store', 'P1220063.jpg']}, {'NORTHERN PARULA': ['.DS_Store', 'P1230609.jpg']}, {'BROWN CREPPER': ['.DS_Store', 'P1330950.jpg', 'P1330952.jpg']}, {'AMERICAN GOLDFINCH': ['.DS_Store', 'P1050168.jpg']}, {'KILLDEAR': ['.DS_Store', 'P1070446.jpg']}, {'AMERICAN PIPIT': ['.DS_Store', 'P1290263.jpg']}, {'CHIPPING SPARROW': ['.DS_Store', 'P1230904.jpg']}, {'CEDAR WAXWING': ['.DS_Store', 'P1010237.jpg']}, {'COMMON GRACKLE': ['.DS_Store', 'P1060563.jpg']}, {'RING-NECKED PHEASANT': ['.DS_Store', 'P1090572.jpg']}]}\n",
      "{'rough_demo_22': [{'AMERICAN REDSTART': ['301.jpg']}, {'SNOWY OWL': ['302.jpg', '301.jpg']}, {'PURPLE FINCH': ['301.jpg']}, {'AMERICAN COOT': ['301.jpg']}, {'BLACKBURNIAM WARBLER': ['301.jpg']}, {'BROWN THRASHER': ['301.jpg']}, {'RUBY THROATED HUMMINGBIRD': ['301.jpg']}, {'BLACK VULTURE': ['301.jpg']}, '.DS_Store', {'BALTIMORE ORIOLE': ['303.jpg', '302.jpg', '301.jpg']}, {'BALD EAGLE': ['303.jpg', '302.jpg', '301.jpg']}, {'GLOSSY IBIS': ['301.jpg']}, {'RED WINGED BLACKBIRD': ['302.jpg', '301.jpg']}, {'RED TAILED HAWK': ['301.jpg']}, {'NORTHERN PARULA': ['301.jpg']}, {'BROWN CREPPER': ['302.jpg', '301.jpg']}, {'AMERICAN GOLDFINCH': ['301.jpg']}, {'KILLDEAR': ['301.jpg']}, {'AMERICAN PIPIT': ['301.jpg']}, {'CHIPPING SPARROW': ['301.jpg']}, {'CEDAR WAXWING': ['301.jpg']}, {'COMMON GRACKLE': ['301.jpg']}, {'RING-NECKED PHEASANT': ['301.jpg']}]}\n",
      "{'test_22': [{'AMERICAN REDSTART': ['4.jpg', '5.jpg', '2.jpg', '3.jpg', '1.jpg']}, {'SNOWY OWL': ['4.jpg', '5.jpg', '2.jpg', '3.jpg', '1.jpg']}, {'PURPLE FINCH': ['4.jpg', '5.jpg', '2.jpg', '3.jpg', '1.jpg']}, {'AMERICAN COOT': ['4.jpg', '5.jpg', '2.jpg', '3.jpg', '1.jpg']}, {'BLACKBURNIAM WARBLER': ['4.jpg', '5.jpg', '2.jpg', '3.jpg', '1.jpg']}, {'BROWN THRASHER': ['4.jpg', '5.jpg', '2.jpg', '3.jpg', '1.jpg']}, {'RUBY THROATED HUMMINGBIRD': ['4.jpg', '5.jpg', '2.jpg', '3.jpg', '1.jpg']}, {'BLACK VULTURE': ['4.jpg', '5.jpg', '2.jpg', '3.jpg', '1.jpg']}, '.DS_Store', {'BALTIMORE ORIOLE': ['4.jpg', '5.jpg', '2.jpg', '3.jpg', '1.jpg']}, {'BALD EAGLE': ['4.jpg', '5.jpg', '2.jpg', '3.jpg', '1.jpg']}, {'GLOSSY IBIS': ['4.jpg', '5.jpg', '2.jpg', '3.jpg', '1.jpg']}, {'RED WINGED BLACKBIRD': ['4.jpg', '5.jpg', '2.jpg', '3.jpg', '1.jpg']}, {'RED TAILED HAWK': ['4.jpg', '5.jpg', '2.jpg', '3.jpg', '1.jpg']}, {'NORTHERN PARULA': ['4.jpg', '5.jpg', '2.jpg', '3.jpg', '1.jpg']}, {'BROWN CREPPER': ['4.jpg', '5.jpg', '2.jpg', '3.jpg', '1.jpg']}, {'AMERICAN GOLDFINCH': ['4.jpg', '5.jpg', '2.jpg', '3.jpg', '1.jpg']}, {'KILLDEAR': ['4.jpg', '5.jpg', '2.jpg', '3.jpg', '1.jpg']}, {'AMERICAN PIPIT': ['4.jpg', '5.jpg', '2.jpg', '3.jpg', '1.jpg']}, {'CHIPPING SPARROW': ['4.jpg', '5.jpg', '2.jpg', '3.jpg', '1.jpg']}, {'CEDAR WAXWING': ['4.jpg', '5.jpg', '2.jpg', '3.jpg', '1.jpg']}, {'COMMON GRACKLE': ['4.jpg', '5.jpg', '2.jpg', '3.jpg', '1.jpg']}, {'RING-NECKED PHEASANT': ['4.jpg', '5.jpg', '2.jpg', '3.jpg', '1.jpg']}]}\n"
     ]
    }
   ],
   "source": [
    "import os\n",
    "from os import walk\n",
    "import json\n",
    "import cv2\n",
    "\n",
    "\n",
    "def path_to_dict(path):\n",
    "    if os.path.isdir(path):\n",
    "        d = {os.path.basename(path):\n",
    "             [path_to_dict(os.path.join(path,x)) for x in os.listdir(path)]}\n",
    "    else:\n",
    "        d = os.path.basename(path)\n",
    "    return d\n",
    "\n",
    "json_string = path_to_dict('./demo_img/clean_demo_22')\n",
    "print(json_string)\n",
    "\n",
    "with open('clean_demo_22_image_list.json', 'w') as outfile:\n",
    "    json.dump(json_string, outfile)\n",
    "    \n",
    "    \n",
    "    \n",
    "json_string = path_to_dict('./demo_img/raw_demo_22')\n",
    "print(json_string)\n",
    "\n",
    "with open('raw_demo_22_image_list.json', 'w') as outfile:\n",
    "    json.dump(json_string, outfile)\n",
    "    \n",
    "    \n",
    "json_string = path_to_dict('./demo_img/rough_demo_22')\n",
    "print(json_string)\n",
    "\n",
    "with open('rough_demo_22_image_list.json', 'w') as outfile:\n",
    "    json.dump(json_string, outfile)\n",
    "    \n",
    "    \n",
    "json_string = path_to_dict('./demo_img/test_22')\n",
    "print(json_string)\n",
    "\n",
    "with open('test_22_image_list.json', 'w') as outfile:\n",
    "    json.dump(json_string, outfile)"
   ]
  }
 ],
 "metadata": {
  "kernelspec": {
   "display_name": "Python 3 (ipykernel)",
   "language": "python",
   "name": "python3"
  },
  "language_info": {
   "codemirror_mode": {
    "name": "ipython",
    "version": 3
   },
   "file_extension": ".py",
   "mimetype": "text/x-python",
   "name": "python",
   "nbconvert_exporter": "python",
   "pygments_lexer": "ipython3",
   "version": "3.10.4"
  }
 },
 "nbformat": 4,
 "nbformat_minor": 5
}
