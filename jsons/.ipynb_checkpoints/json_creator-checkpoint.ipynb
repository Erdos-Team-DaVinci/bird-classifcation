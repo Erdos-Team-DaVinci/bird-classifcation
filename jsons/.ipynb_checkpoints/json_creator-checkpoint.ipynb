{
 "cells": [
  {
   "cell_type": "code",
   "execution_count": 3,
   "id": "c56d027e",
   "metadata": {},
   "outputs": [
    {
     "name": "stdout",
     "output_type": "stream",
     "text": [
      "clean_demo_22\n",
      "raw_demo_22\n",
      "rough_demo_22\n",
      "test_22\n"
     ]
    }
   ],
   "source": [
    "import os\n",
    "from os import walk\n",
    "import json\n",
    "import cv2\n",
    "\n",
    "\n",
    "def path_to_dict(path):\n",
    "    if os.path.isdir(path):\n",
    "        d = {os.path.basename(path):\n",
    "             [path_to_dict(os.path.join(path,x)) for x in os.listdir(path)]}\n",
    "    else:\n",
    "        d = os.path.basename(path)\n",
    "    return d\n",
    "\n",
    "json_string = path_to_dict('./demo_img/clean_demo_22')\n",
    "print(json_string)\n",
    "\n",
    "with open('clean_demo_22_image_list.json', 'w') as outfile:\n",
    "    json.dump(json_string, outfile)\n",
    "    \n",
    "    \n",
    "    \n",
    "json_string = path_to_dict('./demo_img/raw_demo_22')\n",
    "print(json_string)\n",
    "\n",
    "with open('raw_demo_22_image_list.json', 'w') as outfile:\n",
    "    json.dump(json_string, outfile)\n",
    "    \n",
    "    \n",
    "json_string = path_to_dict('./demo_img/rough_demo_22')\n",
    "print(json_string)\n",
    "\n",
    "with open('rough_demo_22_image_list.json', 'w') as outfile:\n",
    "    json.dump(json_string, outfile)\n",
    "    \n",
    "    \n",
    "json_string = path_to_dict('./app/demo_img/test_22')\n",
    "print(json_string)\n",
    "\n",
    "with open('test_22_image_list.json', 'w') as outfile:\n",
    "    json.dump(json_string, outfile)"
   ]
  }
 ],
 "metadata": {
  "kernelspec": {
   "display_name": "Python 3 (ipykernel)",
   "language": "python",
   "name": "python3"
  },
  "language_info": {
   "codemirror_mode": {
    "name": "ipython",
    "version": 3
   },
   "file_extension": ".py",
   "mimetype": "text/x-python",
   "name": "python",
   "nbconvert_exporter": "python",
   "pygments_lexer": "ipython3",
   "version": "3.10.4"
  }
 },
 "nbformat": 4,
 "nbformat_minor": 5
}
